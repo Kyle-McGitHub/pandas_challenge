{
 "cells": [
  {
   "cell_type": "code",
   "execution_count": 88,
   "id": "97803394-088a-43cf-8b48-7871a4a62752",
   "metadata": {},
   "outputs": [],
   "source": [
    "import pandas as pd\n",
    "from pathlib import Path\n",
    "\n",
    "school_data_file = Path(r\"C:\\Users\\Kyle_McDaniel_Python\\Desktop\\Columbia_Analytics_Bootcamp\\pandas_challenge\\Resources\\schools_complete.csv\")\n",
    "student_data_file = Path(r\"C:\\Users\\Kyle_McDaniel_Python\\Desktop\\Columbia_Analytics_Bootcamp\\pandas_challenge\\Resources\\students_complete.csv\")"
   ]
  },
  {
   "cell_type": "code",
   "execution_count": 89,
   "id": "d068dc65-571b-45ea-a0ab-011c01b5e8e5",
   "metadata": {
    "scrolled": true
   },
   "outputs": [],
   "source": [
    "school_data = pd.read_csv(school_data_file)\n",
    "student_data = pd.read_csv(student_data_file)"
   ]
  },
  {
   "cell_type": "code",
   "execution_count": 90,
   "id": "a789fc66-70a2-4f25-a461-5b6e7c79b462",
   "metadata": {},
   "outputs": [
    {
     "data": {
      "text/html": [
       "<div>\n",
       "<style scoped>\n",
       "    .dataframe tbody tr th:only-of-type {\n",
       "        vertical-align: middle;\n",
       "    }\n",
       "\n",
       "    .dataframe tbody tr th {\n",
       "        vertical-align: top;\n",
       "    }\n",
       "\n",
       "    .dataframe thead th {\n",
       "        text-align: right;\n",
       "    }\n",
       "</style>\n",
       "<table border=\"1\" class=\"dataframe\">\n",
       "  <thead>\n",
       "    <tr style=\"text-align: right;\">\n",
       "      <th></th>\n",
       "      <th>Student ID</th>\n",
       "      <th>student_name</th>\n",
       "      <th>gender</th>\n",
       "      <th>grade</th>\n",
       "      <th>school_name</th>\n",
       "      <th>reading_score</th>\n",
       "      <th>math_score</th>\n",
       "      <th>School ID</th>\n",
       "      <th>type</th>\n",
       "      <th>size</th>\n",
       "      <th>budget</th>\n",
       "    </tr>\n",
       "  </thead>\n",
       "  <tbody>\n",
       "    <tr>\n",
       "      <th>0</th>\n",
       "      <td>0</td>\n",
       "      <td>Paul Bradley</td>\n",
       "      <td>M</td>\n",
       "      <td>9th</td>\n",
       "      <td>Huang High School</td>\n",
       "      <td>66</td>\n",
       "      <td>79</td>\n",
       "      <td>0</td>\n",
       "      <td>District</td>\n",
       "      <td>2917</td>\n",
       "      <td>1910635</td>\n",
       "    </tr>\n",
       "    <tr>\n",
       "      <th>1</th>\n",
       "      <td>1</td>\n",
       "      <td>Victor Smith</td>\n",
       "      <td>M</td>\n",
       "      <td>12th</td>\n",
       "      <td>Huang High School</td>\n",
       "      <td>94</td>\n",
       "      <td>61</td>\n",
       "      <td>0</td>\n",
       "      <td>District</td>\n",
       "      <td>2917</td>\n",
       "      <td>1910635</td>\n",
       "    </tr>\n",
       "    <tr>\n",
       "      <th>2</th>\n",
       "      <td>2</td>\n",
       "      <td>Kevin Rodriguez</td>\n",
       "      <td>M</td>\n",
       "      <td>12th</td>\n",
       "      <td>Huang High School</td>\n",
       "      <td>90</td>\n",
       "      <td>60</td>\n",
       "      <td>0</td>\n",
       "      <td>District</td>\n",
       "      <td>2917</td>\n",
       "      <td>1910635</td>\n",
       "    </tr>\n",
       "    <tr>\n",
       "      <th>3</th>\n",
       "      <td>3</td>\n",
       "      <td>Dr. Richard Scott</td>\n",
       "      <td>M</td>\n",
       "      <td>12th</td>\n",
       "      <td>Huang High School</td>\n",
       "      <td>67</td>\n",
       "      <td>58</td>\n",
       "      <td>0</td>\n",
       "      <td>District</td>\n",
       "      <td>2917</td>\n",
       "      <td>1910635</td>\n",
       "    </tr>\n",
       "    <tr>\n",
       "      <th>4</th>\n",
       "      <td>4</td>\n",
       "      <td>Bonnie Ray</td>\n",
       "      <td>F</td>\n",
       "      <td>9th</td>\n",
       "      <td>Huang High School</td>\n",
       "      <td>97</td>\n",
       "      <td>84</td>\n",
       "      <td>0</td>\n",
       "      <td>District</td>\n",
       "      <td>2917</td>\n",
       "      <td>1910635</td>\n",
       "    </tr>\n",
       "  </tbody>\n",
       "</table>\n",
       "</div>"
      ],
      "text/plain": [
       "   Student ID       student_name gender grade        school_name  \\\n",
       "0           0       Paul Bradley      M   9th  Huang High School   \n",
       "1           1       Victor Smith      M  12th  Huang High School   \n",
       "2           2    Kevin Rodriguez      M  12th  Huang High School   \n",
       "3           3  Dr. Richard Scott      M  12th  Huang High School   \n",
       "4           4         Bonnie Ray      F   9th  Huang High School   \n",
       "\n",
       "   reading_score  math_score  School ID      type  size   budget  \n",
       "0             66          79          0  District  2917  1910635  \n",
       "1             94          61          0  District  2917  1910635  \n",
       "2             90          60          0  District  2917  1910635  \n",
       "3             67          58          0  District  2917  1910635  \n",
       "4             97          84          0  District  2917  1910635  "
      ]
     },
     "execution_count": 90,
     "metadata": {},
     "output_type": "execute_result"
    }
   ],
   "source": [
    "school_data_complete = pd.merge(student_data, school_data, how=\"left\", on=[\"school_name\", \"school_name\"])\n",
    "school_data_complete.head()"
   ]
  },
  {
   "cell_type": "code",
   "execution_count": 91,
   "id": "6ffc05ed-e51a-47bd-aad7-7ab9ac8b8363",
   "metadata": {},
   "outputs": [
    {
     "name": "stdout",
     "output_type": "stream",
     "text": [
      "15\n"
     ]
    }
   ],
   "source": [
    "school_count = school_data_complete['school_name'].nunique()\n",
    "print(school_data_complete['school_name'].nunique())"
   ]
  },
  {
   "cell_type": "code",
   "execution_count": 92,
   "id": "f87eefaf-9bd2-4b44-b069-b1c800717cc3",
   "metadata": {},
   "outputs": [
    {
     "name": "stdout",
     "output_type": "stream",
     "text": [
      "39170\n"
     ]
    }
   ],
   "source": [
    "student_count = school_data_complete['Student ID'].nunique()\n",
    "print(school_data_complete['Student ID'].nunique())"
   ]
  },
  {
   "cell_type": "code",
   "execution_count": 93,
   "id": "dfe26c74-3381-4560-bc36-f067fc1bb037",
   "metadata": {},
   "outputs": [
    {
     "name": "stdout",
     "output_type": "stream",
     "text": [
      "24649428\n"
     ]
    }
   ],
   "source": [
    "budget_total = school_data_complete['budget'].unique().sum()\n",
    "print(budget_total)"
   ]
  },
  {
   "cell_type": "code",
   "execution_count": 94,
   "id": "207b36ec-1293-4553-bae3-047a9a32e137",
   "metadata": {},
   "outputs": [
    {
     "name": "stdout",
     "output_type": "stream",
     "text": [
      "78.98537145774827\n"
     ]
    }
   ],
   "source": [
    "math_avg = school_data_complete['math_score'].mean()\n",
    "print(math_avg)"
   ]
  },
  {
   "cell_type": "code",
   "execution_count": 95,
   "id": "22e3c753-1eb8-477c-9d84-ebc8c0d738cc",
   "metadata": {},
   "outputs": [
    {
     "name": "stdout",
     "output_type": "stream",
     "text": [
      "81.87784018381414\n"
     ]
    }
   ],
   "source": [
    "read_avg = school_data_complete['reading_score'].mean()\n",
    "print(read_avg)"
   ]
  },
  {
   "cell_type": "code",
   "execution_count": 96,
   "id": "77388037-4adf-473d-9648-7c60e063f55b",
   "metadata": {},
   "outputs": [
    {
     "name": "stdout",
     "output_type": "stream",
     "text": [
      "74.9808526933878\n"
     ]
    }
   ],
   "source": [
    "math_pass_count = school_data_complete[(school_data_complete[\"math_score\"] >= 70)].count()[\"student_name\"]\n",
    "math_pass_percent = math_pass_count / float(student_count) * 100\n",
    "print(math_pass_percent)"
   ]
  },
  {
   "cell_type": "code",
   "execution_count": 97,
   "id": "65f87e09-90f0-498e-9c37-874718a8b5fe",
   "metadata": {},
   "outputs": [
    {
     "name": "stdout",
     "output_type": "stream",
     "text": [
      "85.80546336482001\n"
     ]
    }
   ],
   "source": [
    "read_pass_count = school_data_complete[(school_data_complete[\"reading_score\"] >= 70)].count()[\"student_name\"]\n",
    "read_pass_percent = read_pass_count / float(student_count) * 100\n",
    "print(read_pass_percent)"
   ]
  },
  {
   "cell_type": "code",
   "execution_count": 98,
   "id": "b6e53eba-c8f8-4668-9ef1-39942f80ba1b",
   "metadata": {},
   "outputs": [
    {
     "data": {
      "text/plain": [
       "65.17232575950983"
      ]
     },
     "execution_count": 98,
     "metadata": {},
     "output_type": "execute_result"
    }
   ],
   "source": [
    "math_read_pass_count = school_data_complete[\n",
    "    (school_data_complete[\"math_score\"] >= 70) & (school_data_complete[\"reading_score\"] >= 70)\n",
    "].count()[\"student_name\"]\n",
    "overall_pass_rate = math_read_pass_count /  float(student_count) * 100\n",
    "overall_pass_rate"
   ]
  },
  {
   "cell_type": "code",
   "execution_count": 99,
   "id": "d13a8f47-567e-4950-8df1-84c7d0a8548d",
   "metadata": {},
   "outputs": [
    {
     "data": {
      "text/html": [
       "<div>\n",
       "<style scoped>\n",
       "    .dataframe tbody tr th:only-of-type {\n",
       "        vertical-align: middle;\n",
       "    }\n",
       "\n",
       "    .dataframe tbody tr th {\n",
       "        vertical-align: top;\n",
       "    }\n",
       "\n",
       "    .dataframe thead th {\n",
       "        text-align: right;\n",
       "    }\n",
       "</style>\n",
       "<table border=\"1\" class=\"dataframe\">\n",
       "  <thead>\n",
       "    <tr style=\"text-align: right;\">\n",
       "      <th></th>\n",
       "      <th>Total Schools</th>\n",
       "      <th>Total Students</th>\n",
       "      <th>Total Budget</th>\n",
       "      <th>Average Math Score</th>\n",
       "      <th>Average Reading Score</th>\n",
       "      <th>% Passing Math</th>\n",
       "      <th>% Passing Reading</th>\n",
       "      <th>% Overall Passing</th>\n",
       "    </tr>\n",
       "  </thead>\n",
       "  <tbody>\n",
       "    <tr>\n",
       "      <th>0</th>\n",
       "      <td>15</td>\n",
       "      <td>39,170</td>\n",
       "      <td>$24,649,428.00</td>\n",
       "      <td>78.985371</td>\n",
       "      <td>81.87784</td>\n",
       "      <td>74.980853</td>\n",
       "      <td>85.805463</td>\n",
       "      <td>65.172326</td>\n",
       "    </tr>\n",
       "  </tbody>\n",
       "</table>\n",
       "</div>"
      ],
      "text/plain": [
       "   Total Schools Total Students    Total Budget  Average Math Score  \\\n",
       "0             15         39,170  $24,649,428.00           78.985371   \n",
       "\n",
       "   Average Reading Score  % Passing Math  % Passing Reading  % Overall Passing  \n",
       "0               81.87784       74.980853          85.805463          65.172326  "
      ]
     },
     "execution_count": 99,
     "metadata": {},
     "output_type": "execute_result"
    }
   ],
   "source": [
    "district_summary = {\n",
    "    'Total Schools': [school_count],\n",
    "    'Total Students': [student_count],\n",
    "    'Total Budget': [budget_total],\n",
    "    'Average Math Score': [math_avg],\n",
    "    'Average Reading Score': [read_avg],\n",
    "    '% Passing Math': [math_pass_percent],\n",
    "    '% Passing Reading': [read_pass_percent],\n",
    "    '% Overall Passing': [overall_pass_rate]\n",
    "}\n",
    "\n",
    "district_summary_df = pd.DataFrame(district_summary)\n",
    "\n",
    "district_summary_df[\"Total Students\"] = district_summary_df[\"Total Students\"].map(\"{:,}\".format)\n",
    "district_summary_df[\"Total Budget\"] = district_summary_df[\"Total Budget\"].map(\"${:,.2f}\".format)\n",
    "\n",
    "district_summary_df"
   ]
  },
  {
   "cell_type": "code",
   "execution_count": 100,
   "id": "1008fad8-989a-4a83-85f7-a159159d501f",
   "metadata": {},
   "outputs": [],
   "source": [
    "school_type = school_data.set_index([\"school_name\"])[\"type\"]"
   ]
  },
  {
   "cell_type": "code",
   "execution_count": 101,
   "id": "fa8a06b6-29e7-4db9-96d2-df61b2a7530b",
   "metadata": {},
   "outputs": [],
   "source": [
    "merged_df = school_data_complete.merge(school_types, left_on='school_name', right_index=True)"
   ]
  },
  {
   "cell_type": "code",
   "execution_count": 102,
   "id": "26f5243b-f85f-4d1f-aee7-c4966c4bf030",
   "metadata": {},
   "outputs": [],
   "source": [
    "per_school_students = merged_df.groupby('school_name')['Student ID'].nunique()"
   ]
  },
  {
   "cell_type": "code",
   "execution_count": 103,
   "id": "e92f2909-e99c-4502-bbe3-3d1f228510f2",
   "metadata": {
    "scrolled": true
   },
   "outputs": [],
   "source": [
    "per_school_budget = merged_df.groupby('school_name')['budget'].unique()\n",
    "per_school_capita = per_school_budget / per_school_students"
   ]
  },
  {
   "cell_type": "code",
   "execution_count": 104,
   "id": "cfb44d3e-caaa-438b-9b15-4e885bc0bf5e",
   "metadata": {},
   "outputs": [],
   "source": [
    "per_school_math_avg = merged_df.groupby('school_name')['math_score'].mean()\n",
    "per_school_reading_avg = merged_df.groupby('school_name')['reading_score'].mean()"
   ]
  },
  {
   "cell_type": "code",
   "execution_count": 105,
   "id": "37ceca60-5504-4823-bbfc-cd797fb66ae5",
   "metadata": {},
   "outputs": [],
   "source": [
    "# Calculate the number of students per school with math scores of 70 or higher from school_data_complete\n",
    "students_passing_math = school_data_complete[school_data_complete[\"math_score\"] >= 70][\"student_name\"].count()\n",
    "school_students_passing_math = school_data_complete[school_data_complete[\"math_score\"] >= 70].groupby(\"school_name\").count()[\"student_name\"]"
   ]
  },
  {
   "cell_type": "code",
   "execution_count": 106,
   "id": "59f04cef-6daf-4a67-ac80-53c8abdb920f",
   "metadata": {},
   "outputs": [],
   "source": [
    "# Calculate the number of students per school with reading scores of 70 or higher from school_data_complete\n",
    "students_passing_reading = school_data_complete[school_data_complete[\"reading_score\"] >= 70][\"student_name\"].count()\n",
    "school_students_passing_reading = school_data_complete[school_data_complete[\"reading_score\"] >= 70].groupby(\"school_name\").count()[\"student_name\"]"
   ]
  },
  {
   "cell_type": "code",
   "execution_count": 107,
   "id": "16a7635f-61a4-4577-a50d-0391a72aea2b",
   "metadata": {},
   "outputs": [],
   "source": [
    "# Use the provided code to calculate the number of students per school that passed both math and reading with scores of 70 or higher\n",
    "students_passing_math_and_reading = school_data_complete[\n",
    "    (school_data_complete[\"reading_score\"] >= 70) & (school_data_complete[\"math_score\"] >= 70)\n",
    "]\n",
    "school_students_passing_math_and_reading = students_passing_math_and_reading.groupby([\"school_name\"]).size()"
   ]
  },
  {
   "cell_type": "code",
   "execution_count": 108,
   "id": "dd8cf4c8-8fba-4514-baa5-830b99d9e5f8",
   "metadata": {},
   "outputs": [],
   "source": [
    "# Use the provided code to calculate the passing rates\n",
    "per_school_passing_math = school_students_passing_math / per_school_students * 100\n",
    "per_school_passing_reading = school_students_passing_reading / per_school_students * 100\n",
    "overall_passing_rate = school_students_passing_math_and_reading / per_school_students * 100"
   ]
  },
  {
   "cell_type": "code",
   "execution_count": 109,
   "id": "957feba9-e792-46be-9d88-84735675e254",
   "metadata": {},
   "outputs": [
    {
     "ename": "AttributeError",
     "evalue": "'list' object has no attribute 'map'",
     "output_type": "error",
     "traceback": [
      "\u001b[1;31m---------------------------------------------------------------------------\u001b[0m",
      "\u001b[1;31mAttributeError\u001b[0m                            Traceback (most recent call last)",
      "Cell \u001b[1;32mIn[109], line 17\u001b[0m\n\u001b[0;32m     14\u001b[0m per_school_summary_df \u001b[38;5;241m=\u001b[39m pd\u001b[38;5;241m.\u001b[39mDataFrame(per_school_summary)\n\u001b[0;32m     16\u001b[0m \u001b[38;5;66;03m# Formatting\u001b[39;00m\n\u001b[1;32m---> 17\u001b[0m per_school_summary[\u001b[38;5;124m\"\u001b[39m\u001b[38;5;124mTotal School Budget\u001b[39m\u001b[38;5;124m\"\u001b[39m] \u001b[38;5;241m=\u001b[39m per_school_summary[\u001b[38;5;124m\"\u001b[39m\u001b[38;5;124mTotal School Budget\u001b[39m\u001b[38;5;124m\"\u001b[39m]\u001b[38;5;241m.\u001b[39mmap(\u001b[38;5;124m\"\u001b[39m\u001b[38;5;124m$\u001b[39m\u001b[38;5;132;01m{:,.2f}\u001b[39;00m\u001b[38;5;124m\"\u001b[39m\u001b[38;5;241m.\u001b[39mformat)\n\u001b[0;32m     18\u001b[0m per_school_summary[\u001b[38;5;124m\"\u001b[39m\u001b[38;5;124mPer Student Budget\u001b[39m\u001b[38;5;124m\"\u001b[39m] \u001b[38;5;241m=\u001b[39m per_school_summary[\u001b[38;5;124m\"\u001b[39m\u001b[38;5;124mPer Student Budget\u001b[39m\u001b[38;5;124m\"\u001b[39m]\u001b[38;5;241m.\u001b[39mmap(\u001b[38;5;124m\"\u001b[39m\u001b[38;5;124m$\u001b[39m\u001b[38;5;132;01m{:,.2f}\u001b[39;00m\u001b[38;5;124m\"\u001b[39m\u001b[38;5;241m.\u001b[39mformat)\n\u001b[0;32m     20\u001b[0m \u001b[38;5;66;03m# Display the DataFrame\u001b[39;00m\n",
      "\u001b[1;31mAttributeError\u001b[0m: 'list' object has no attribute 'map'"
     ]
    }
   ],
   "source": [
    "# Create a DataFrame called `per_school_summary` with columns for the calculations above.\n",
    "per_school_summary = {\n",
    "    'School Type': [school_type],\n",
    "    'Total Students': [per_school_students],\n",
    "    'Total School Budget': [per_school_budget],\n",
    "    'Per Student Budget': [per_school_capita],\n",
    "    'Average Math Score': [per_school_math_avg],\n",
    "    'Average Reading Score': [per_school_reading_avg],\n",
    "    '% Passing Math': [per_school_passing_math],\n",
    "    '% Passing Reading': [per_school_passing_reading],\n",
    "    '% Overall Passing': [overall_passing_rate]\n",
    "}\n",
    "\n",
    "per_school_summary_df = pd.DataFrame(per_school_summary)\n",
    "\n",
    "# Formatting\n",
    "per_school_summary[\"Total School Budget\"] = per_school_summary[\"Total School Budget\"].map(\"${:,.2f}\".format)\n",
    "per_school_summary[\"Per Student Budget\"] = per_school_summary[\"Per Student Budget\"].map(\"${:,.2f}\".format)\n",
    "\n",
    "# Display the DataFrame\n",
    "per_school_summary"
   ]
  },
  {
   "cell_type": "code",
   "execution_count": null,
   "id": "dffc5f74-dd30-4af4-bf11-8eb4ec37b564",
   "metadata": {},
   "outputs": [],
   "source": []
  }
 ],
 "metadata": {
  "kernelspec": {
   "display_name": "Python 3 (ipykernel)",
   "language": "python",
   "name": "python3"
  },
  "language_info": {
   "codemirror_mode": {
    "name": "ipython",
    "version": 3
   },
   "file_extension": ".py",
   "mimetype": "text/x-python",
   "name": "python",
   "nbconvert_exporter": "python",
   "pygments_lexer": "ipython3",
   "version": "3.11.7"
  }
 },
 "nbformat": 4,
 "nbformat_minor": 5
}
